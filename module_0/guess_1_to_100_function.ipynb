{
 "cells": [
  {
   "cell_type": "code",
   "execution_count": 1,
   "metadata": {},
   "outputs": [
    {
     "name": "stdout",
     "output_type": "stream",
     "text": [
      "Ваш алгоритм угадывает число в среднем за 9 попыток\n"
     ]
    },
    {
     "data": {
      "text/plain": [
       "9"
      ]
     },
     "execution_count": 1,
     "metadata": {},
     "output_type": "execute_result"
    }
   ],
   "source": [
    "import numpy as np\n",
    "def game_core(number):\n",
    "    '''Guesses the number from 1 to 100. 1-100 range is split into 4 smaller ranges to lower the number of tries.\n",
    "       First it checks in which range lays the number and sets a random number inside this particular range.\n",
    "       Then it increases the random number if it's less or decreases it if it's bigger than the quessing number.'''\n",
    "    count = 1\n",
    "    \n",
    "    if number in range(76,101):\n",
    "        predict = np.random.randint(76,101)\n",
    "    elif number in range(51,76):\n",
    "        predict = np.random.randint(51,76)\n",
    "    elif number in range(25,51):\n",
    "        predict = np.random.randint(25,51)\n",
    "    else:\n",
    "        predict = np.random.randint(1,25)\n",
    "        \n",
    "    while number != predict:\n",
    "        count += 1\n",
    "        if number > predict: \n",
    "            predict += 1\n",
    "        elif number < predict: \n",
    "            predict -= 1\n",
    "    return(count)\n",
    "\n",
    "\n",
    "def score_game(game_core):\n",
    "    '''Launches the game 1000 times to figure out how fast the game guesses the number'''\n",
    "    count_ls = []\n",
    "    np.random.seed(1)  \n",
    "    # fix RANDOM SEED, so the experiment could be repeated\n",
    "    random_array = np.random.randint(1,101, size=(1000))\n",
    "    for number in random_array:\n",
    "        count_ls.append(game_core(number))\n",
    "    score = int(np.mean(count_ls))\n",
    "    print(f\"Ваш алгоритм угадывает число в среднем за {score} попыток\")\n",
    "    return(score)\n",
    "\n",
    "\n",
    "score_game(game_core)"
   ]
  }
 ],
 "metadata": {
  "kernelspec": {
   "display_name": "Python 3",
   "language": "python",
   "name": "python3"
  },
  "language_info": {
   "codemirror_mode": {
    "name": "ipython",
    "version": 3
   },
   "file_extension": ".py",
   "mimetype": "text/x-python",
   "name": "python",
   "nbconvert_exporter": "python",
   "pygments_lexer": "ipython3",
   "version": "3.8.3"
  }
 },
 "nbformat": 4,
 "nbformat_minor": 4
}

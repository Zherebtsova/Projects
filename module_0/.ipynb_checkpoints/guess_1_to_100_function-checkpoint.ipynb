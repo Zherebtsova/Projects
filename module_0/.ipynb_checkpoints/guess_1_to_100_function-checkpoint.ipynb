{
 "cells": [
  {
   "cell_type": "code",
   "execution_count": 1,
   "metadata": {},
   "outputs": [
    {
     "name": "stdout",
     "output_type": "stream",
     "text": [
      "Ваш алгоритм угадывает число в среднем за 25 попыток\n"
     ]
    },
    {
     "data": {
      "text/plain": [
       "25"
      ]
     },
     "execution_count": 1,
     "metadata": {},
     "output_type": "execute_result"
    }
   ],
   "source": [
    "import numpy as np\n",
    "def game_core_v2(number):\n",
    "    '''Guesses the number from 1 to 100. 1-100 range is split into 2 ranges to lower the number of tries.\n",
    "       If the number is bigger than the predicted number, the predicted number is increased by 1, \n",
    "       if it is lower - the predicted number is declined by 1.'''\n",
    "    count = 1\n",
    "    predict = 50\n",
    "    \n",
    "    while number != predict:\n",
    "        count+=1\n",
    "        if number < predict:\n",
    "            predict = np.random.randint(1,50)\n",
    "            if number > predict: \n",
    "                predict += 1\n",
    "            elif number < predict: \n",
    "                predict -= 1\n",
    "            \n",
    "        elif number > predict:\n",
    "            predict = np.random.randint(50,101)\n",
    "            if number > predict: \n",
    "                predict += 1\n",
    "            elif number < predict: \n",
    "                predict -= 1\n",
    "    return(count)\n",
    "\n",
    "\n",
    "def score_game(game_core):\n",
    "    '''Launches the game 1000 times to figure out how fast the game guesses the number'''\n",
    "    count_ls = []\n",
    "    np.random.seed(1)  \n",
    "    # fix RANDOM SEED, so the experiment could be repeated\n",
    "    random_array = np.random.randint(1,101, size=(1000))\n",
    "    for number in random_array:\n",
    "        count_ls.append(game_core(number))\n",
    "    score = int(np.mean(count_ls))\n",
    "    print(f\"Ваш алгоритм угадывает число в среднем за {score} попыток\")\n",
    "    return(score)\n",
    "\n",
    "\n",
    "score_game(game_core_v2)"
   ]
  }
 ],
 "metadata": {
  "kernelspec": {
   "display_name": "Python 3",
   "language": "python",
   "name": "python3"
  },
  "language_info": {
   "codemirror_mode": {
    "name": "ipython",
    "version": 3
   },
   "file_extension": ".py",
   "mimetype": "text/x-python",
   "name": "python",
   "nbconvert_exporter": "python",
   "pygments_lexer": "ipython3",
   "version": "3.8.3"
  }
 },
 "nbformat": 4,
 "nbformat_minor": 4
}
